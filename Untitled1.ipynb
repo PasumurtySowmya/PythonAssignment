{
  "nbformat": 4,
  "nbformat_minor": 0,
  "metadata": {
    "colab": {
      "provenance": [],
      "authorship_tag": "ABX9TyMH/A5I0+GS8m7Hx55dBOII",
      "include_colab_link": true
    },
    "kernelspec": {
      "name": "python3",
      "display_name": "Python 3"
    },
    "language_info": {
      "name": "python"
    }
  },
  "cells": [
    {
      "cell_type": "markdown",
      "metadata": {
        "id": "view-in-github",
        "colab_type": "text"
      },
      "source": [
        "<a href=\"https://colab.research.google.com/github/PasumurtySowmya/PythonAssignment/blob/main/Untitled1.ipynb\" target=\"_parent\"><img src=\"https://colab.research.google.com/assets/colab-badge.svg\" alt=\"Open In Colab\"/></a>"
      ]
    },
    {
      "cell_type": "code",
      "execution_count": null,
      "metadata": {
        "id": "hPEJV0Eoq6sH",
        "colab": {
          "base_uri": "https://localhost:8080/"
        },
        "outputId": "6e1bfc9c-4619-4280-9ad7-f1219ee52df1"
      },
      "outputs": [
        {
          "output_type": "stream",
          "name": "stdout",
          "text": [
            "       sepal length (cm)  sepal width (cm)  petal length (cm)  \\\n",
            "count         150.000000        150.000000         150.000000   \n",
            "mean            5.843333          3.057333           3.758000   \n",
            "std             0.828066          0.435866           1.765298   \n",
            "min             4.300000          2.000000           1.000000   \n",
            "25%             5.100000          2.800000           1.600000   \n",
            "50%             5.800000          3.000000           4.350000   \n",
            "75%             6.400000          3.300000           5.100000   \n",
            "max             7.900000          4.400000           6.900000   \n",
            "\n",
            "       petal width (cm)  \n",
            "count        150.000000  \n",
            "mean           1.199333  \n",
            "std            0.762238  \n",
            "min            0.100000  \n",
            "25%            0.300000  \n",
            "50%            1.300000  \n",
            "75%            1.800000  \n",
            "max            2.500000  \n",
            "Mean square error 0.03333333333333333\n",
            "R2 square 0.9581005586592178\n",
            "Accuracy: 0.9666666666666667\n",
            "Precision: 0.9761904761904763\n",
            "Recall: 0.9444444444444445\n",
            "F1 Score: 0.957351290684624\n",
            "Confusion Matrix:\n",
            " [[11  0  0]\n",
            " [ 0  5  1]\n",
            " [ 0  0 13]]\n"
          ]
        }
      ],
      "source": [
        "import pandas as pd\n",
        "import numpy as np\n",
        "import matplotlib.pyplot as plt\n",
        "from sklearn.datasets import load_iris\n",
        "from sklearn.model_selection import train_test_split\n",
        "from sklearn.linear_model import LogisticRegression\n",
        "from sklearn.metrics import mean_squared_error ,r2_score\n",
        "from sklearn.metrics import accuracy_score, precision_score, recall_score, f1_score, confusion_matrix\n",
        "from sklearn.preprocessing import StandardScaler ,MinMaxScaler\n",
        "#from sklearn.preprocessing import StandardScaler, MinMaxScaler\n",
        "iris = load_iris()\n",
        "data = iris.data\n",
        "columns = iris.feature_names\n",
        "df = pd.DataFrame(data, columns = columns)\n",
        "print(df.describe())\n",
        "X = iris.data\n",
        "Y= iris.target\n",
        "X_train , X_test ,Y_train ,Y_test = train_test_split(X ,Y ,test_size= 0.2 ,random_state=100)\n",
        "model = LogisticRegression()\n",
        "model.fit(X_train, Y_train)\n",
        "Y_pred = model.predict(X_test)\n",
        "\n",
        "mse = mean_squared_error(Y_test ,Y_pred)\n",
        "print(\"Mean square error\" ,mse)\n",
        "\n",
        "r2_score = r2_score(Y_test , Y_pred)\n",
        "print(\"R2 square\" ,r2_score)\n",
        "\n",
        "accuracy = accuracy_score(Y_test, Y_pred)\n",
        "precision = precision_score(Y_test, Y_pred, average='macro')\n",
        "recall = recall_score(Y_test, Y_pred, average='macro')\n",
        "f1 = f1_score(Y_test, Y_pred, average='macro')\n",
        "conf_matrix = confusion_matrix(Y_test, Y_pred)\n",
        "\n",
        "\n",
        "# Print the evaluation metrics\n",
        "print(\"Accuracy:\", accuracy)\n",
        "print(\"Precision:\", precision)\n",
        "print(\"Recall:\", recall)\n",
        "print(\"F1 Score:\", f1)\n",
        "print(\"Confusion Matrix:\\n\", conf_matrix)\n",
        "\n"
      ]
    },
    {
      "cell_type": "code",
      "source": [
        "from sklearn.model_selection import train_test_split\n",
        "import pandas as pd\n",
        "import numpy as np\n",
        "from sklearn.linear_model import LogisticRegression\n",
        "from sklearn.datasets import load_iris\n",
        "from sklearn.preprocessing import StandardScaler ,MinMaxScaler ,normalize\n",
        "from sklearn.metrics import mean_squared_error ,r2_score\n",
        "iris = load_iris()\n",
        "data = iris.data\n",
        "columns = iris.feature_names\n",
        "df = pd.DataFrame(data ,columns = columns)\n",
        "#print(df)\n",
        "X = iris.data\n",
        "Y= iris.target\n",
        "X_train , X_test ,Y_train ,Y_test = train_test_split(X ,Y ,test_size= 0.2 ,random_state=100)\n",
        "model = LogisticRegression()\n",
        "model.fit(X_train, Y_train)\n",
        "Y_pred = model.predict(X_test)\n",
        "\n",
        "mse = mean_squared_error(Y_test ,Y_pred)\n",
        "print(\"Mean square error\" ,mse)\n",
        "\n",
        "scaler_standard = StandardScaler()\n",
        "scaler_minmax = MinMaxScaler()\n",
        "\n",
        "#Applying scaling\n",
        "data_standard = scaler_standard.fit_transform(data)\n",
        "data_standard = scaler_minmax.fit_transform(data)\n",
        "\n",
        "\n",
        "data_normalized = normalize(data ,norm = 'l2')\n",
        "Z = pd.DataFrame(data_normalized , columns = columns )\n",
        "print(\"the value of the following is\" ,Z.head())\n",
        "\n"
      ],
      "metadata": {
        "colab": {
          "base_uri": "https://localhost:8080/"
        },
        "id": "fdPXGRPgvAoj",
        "outputId": "d94bf5a9-1ba6-4973-a14b-74ec6f0777a2"
      },
      "execution_count": 12,
      "outputs": [
        {
          "output_type": "stream",
          "name": "stdout",
          "text": [
            "Mean square error 0.03333333333333333\n",
            "the value of the following is    sepal length (cm)  sepal width (cm)  petal length (cm)  petal width (cm)\n",
            "0           0.803773          0.551609           0.220644          0.031521\n",
            "1           0.828133          0.507020           0.236609          0.033801\n",
            "2           0.805333          0.548312           0.222752          0.034269\n",
            "3           0.800030          0.539151           0.260879          0.034784\n",
            "4           0.790965          0.569495           0.221470          0.031639\n"
          ]
        }
      ]
    },
    {
      "cell_type": "code",
      "source": [],
      "metadata": {
        "id": "jfX5Ou2NFgPX"
      },
      "execution_count": 8,
      "outputs": []
    }
  ]
}