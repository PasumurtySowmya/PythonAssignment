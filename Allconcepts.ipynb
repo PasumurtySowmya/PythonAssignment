{
  "nbformat": 4,
  "nbformat_minor": 0,
  "metadata": {
    "colab": {
      "provenance": [],
      "authorship_tag": "ABX9TyPDX+wPezPvAm67u9H6PCDA",
      "include_colab_link": true
    },
    "kernelspec": {
      "name": "python3",
      "display_name": "Python 3"
    },
    "language_info": {
      "name": "python"
    }
  },
  "cells": [
    {
      "cell_type": "markdown",
      "metadata": {
        "id": "view-in-github",
        "colab_type": "text"
      },
      "source": [
        "<a href=\"https://colab.research.google.com/github/PasumurtySowmya/PythonAssignment/blob/main/Allconcepts.ipynb\" target=\"_parent\"><img src=\"https://colab.research.google.com/assets/colab-badge.svg\" alt=\"Open In Colab\"/></a>"
      ]
    },
    {
      "cell_type": "code",
      "execution_count": 5,
      "metadata": {
        "colab": {
          "base_uri": "https://localhost:8080/"
        },
        "id": "3ukcJNKWPNpJ",
        "outputId": "8d99eab7-a9fe-4bbd-f1d6-77940c155f8c"
      },
      "outputs": [
        {
          "output_type": "stream",
          "name": "stdout",
          "text": [
            "              carat         depth         table         price             x  \\\n",
            "count  53940.000000  53940.000000  53940.000000  53940.000000  53940.000000   \n",
            "mean       0.797940     61.749405     57.457184   3932.799722      5.731157   \n",
            "std        0.474011      1.432621      2.234491   3989.439738      1.121761   \n",
            "min        0.200000     43.000000     43.000000    326.000000      0.000000   \n",
            "25%        0.400000     61.000000     56.000000    950.000000      4.710000   \n",
            "50%        0.700000     61.800000     57.000000   2401.000000      5.700000   \n",
            "75%        1.040000     62.500000     59.000000   5324.250000      6.540000   \n",
            "max        5.010000     79.000000     95.000000  18823.000000     10.740000   \n",
            "\n",
            "                  y             z  \n",
            "count  53940.000000  53940.000000  \n",
            "mean       5.734526      3.538734  \n",
            "std        1.142135      0.705699  \n",
            "min        0.000000      0.000000  \n",
            "25%        4.720000      2.910000  \n",
            "50%        5.710000      3.530000  \n",
            "75%        6.540000      4.040000  \n",
            "max       58.900000     31.800000  \n",
            "<class 'pandas.core.frame.DataFrame'>\n",
            "RangeIndex: 53940 entries, 0 to 53939\n",
            "Data columns (total 10 columns):\n",
            " #   Column   Non-Null Count  Dtype   \n",
            "---  ------   --------------  -----   \n",
            " 0   carat    53940 non-null  float64 \n",
            " 1   cut      53940 non-null  category\n",
            " 2   color    53940 non-null  category\n",
            " 3   clarity  53940 non-null  category\n",
            " 4   depth    53940 non-null  float64 \n",
            " 5   table    53940 non-null  float64 \n",
            " 6   price    53940 non-null  int64   \n",
            " 7   x        53940 non-null  float64 \n",
            " 8   y        53940 non-null  float64 \n",
            " 9   z        53940 non-null  float64 \n",
            "dtypes: category(3), float64(6), int64(1)\n",
            "memory usage: 3.0 MB\n",
            "None\n"
          ]
        }
      ],
      "source": [
        "import seaborn as sns\n",
        "import pandas as pd\n",
        "import matplotlib.pyplot as plt\n",
        "#from sklearn.datasets import diamonds\n",
        "from sklearn.preprocessing import StandardScaler, MinMaxScaler, normalize,MinMaxScaler\n",
        "from sklearn.model_selection import train_test_split\n",
        "from sklearn.linear_model import LogisticRegression\n",
        "from sklearn.metrics import accuracy_score\n",
        "from sklearn.linear_model import LinearRegression\n",
        "from sklearn.metrics import mean_squared_error\n",
        "\n",
        "#Data Loading and exploring\n",
        "# importing diamond dataset from the library\n",
        "df = sns.load_dataset('diamonds')\n",
        "# Step1 Summarize of the dataset\n",
        "df.iloc[0:50]\n",
        "print (df.describe())\n",
        "print(df.info())"
      ]
    },
    {
      "cell_type": "code",
      "source": [
        "#2Model Training and evaluation\n",
        "#A .Splitting data into training and testing\n",
        "# Select numeric features for scaling\n",
        "numeric_features = ['carat', 'depth', 'table', 'x', 'y', 'z']\n",
        "\n",
        "# Split the dataset into features (X) and target (y)\n",
        "X = df[numeric_features]\n",
        "y = df['price']\n",
        "\n",
        "# Split the data into training and testing sets\n",
        "X_train, X_test, y_train, y_test = train_test_split(X, y, test_size=0.2, random_state=42)\n",
        "#B.Training the model using Linear regression\n",
        "model = LinearRegression()\n",
        "\n",
        "# Train the model on the training data and fit the model\n",
        "model.fit(X_train, y_train)\n",
        "\n",
        "# Make predictions on the testing data\n",
        "y_pred = model.predict(X_test)\n",
        "y_pred1 = model.predict(X_train)\n",
        "\n",
        "# Calculate the Mean Squared Error (MSE) on the testing data and training data\n",
        "mse = mean_squared_error(y_test, y_pred)\n",
        "mse1 = mean_squared_error(y_train, y_pred1)\n",
        "print(\"Mean Squared Error of Testing data:\", mse)\n",
        "print(\"Mean Squared Error of Training data:\" ,mse1)\n",
        "\n"
      ],
      "metadata": {
        "colab": {
          "base_uri": "https://localhost:8080/"
        },
        "id": "rIgy__2iQkNy",
        "outputId": "5ff1923b-1746-4a0b-c3cb-9aadeed7868c"
      },
      "execution_count": 12,
      "outputs": [
        {
          "output_type": "stream",
          "name": "stdout",
          "text": [
            "Mean Squared Error of Testing data: 2242178.9040856035\n",
            "Mean Squared Error of Training data: 2240338.531093613\n"
          ]
        }
      ]
    },
    {
      "cell_type": "code",
      "source": [
        "#C For the evaluation metrics\n",
        "from sklearn.datasets import load_wine\n",
        "from sklearn.model_selection import train_test_split\n",
        "from sklearn.tree import DecisionTreeClassifier\n",
        "from sklearn.metrics import accuracy_score, precision_score, recall_score, f1_score\n",
        "\n",
        "# Load the Wine dataset\n",
        "data = load_wine()\n",
        "\n",
        "# Split the data into features (X) and target variable (y)\n",
        "X = data.data\n",
        "y = data.target\n",
        "\n",
        "# Split the data into training and testing sets\n",
        "X_train, X_test, y_train, y_test = train_test_split(X, y, test_size=0.3, random_state=42)\n",
        "\n",
        "# Initialize and train a classification model (Decision Tree)\n",
        "model = DecisionTreeClassifier(random_state=42)\n",
        "model.fit(X_train, y_train)\n",
        "\n",
        "# Predict the labels on the testing set\n",
        "y_pred = model.predict(X_test)\n",
        "\n",
        "# Calculate evaluation metrics\n",
        "accuracy = accuracy_score(y_test, y_pred)\n",
        "precision = precision_score(y_test, y_pred, average='weighted')\n",
        "recall = recall_score(y_test, y_pred, average='weighted')\n",
        "f1 = f1_score(y_test, y_pred, average='weighted')\n",
        "\n",
        "# Print the evaluation metrics\n",
        "print(\"Accuracy:\", accuracy)\n",
        "print(\"Precision:\", precision)\n",
        "print(\"Recall:\", recall)\n",
        "print(\"F1-Score:\", f1)\n"
      ],
      "metadata": {
        "colab": {
          "base_uri": "https://localhost:8080/"
        },
        "id": "l-CgJU4gSpKp",
        "outputId": "84aed124-42d8-4eca-e8b3-ae0137c4e14d"
      },
      "execution_count": 13,
      "outputs": [
        {
          "output_type": "stream",
          "name": "stdout",
          "text": [
            "Accuracy: 0.9629629629629629\n",
            "Precision: 0.9638047138047138\n",
            "Recall: 0.9629629629629629\n",
            "F1-Score: 0.9628353590455226\n"
          ]
        }
      ]
    },
    {
      "cell_type": "code",
      "source": [
        "#Task 3 Cross validation\n",
        "#A .Implement K-fold cross validation with k=5 on your model\n",
        "from sklearn.model_selection import KFold\n",
        "k = 5\n",
        "\n",
        "# Initialize KFold with the specified number of folds\n",
        "kf = KFold(n_splits=k)\n",
        "\n",
        "# Lists to store accuracy scores for each fold\n",
        "accuracy_scores = []\n",
        "\n",
        "# Perform k-fold cross-validation\n",
        "for train_index, test_index in kf.split(X):\n",
        "    X_train, X_test = X[train_index], X[test_index]\n",
        "    y_train, y_test = y[train_index], y[test_index]\n",
        "\n",
        "    # Train the model on the training set\n",
        "    model.fit(X_train, y_train)\n",
        "\n",
        "    # Predict the labels on the testing set\n",
        "    y_pred = model.predict(X_test)\n",
        "\n",
        "    # Calculate accuracy and store in the list\n",
        "    accuracy = accuracy_score(y_test, y_pred)\n",
        "    accuracy_scores.append(accuracy)\n",
        "\n",
        "# Print accuracy scores for each fold\n",
        "for fold, accuracy in enumerate(accuracy_scores, start=1):\n",
        "    print(f\"Fold {fold} Accuracy:\", accuracy)\n",
        "\n",
        "# Calculate and print the mean accuracy across all folds\n",
        "mean_accuracy = sum(accuracy_scores) / k\n",
        "print(\"Mean Accuracy:\", mean_accuracy)\n"
      ],
      "metadata": {
        "colab": {
          "base_uri": "https://localhost:8080/"
        },
        "id": "xhZ-Lv4fVF1b",
        "outputId": "ef6797c1-35e8-4796-bd3e-956a65b4049a"
      },
      "execution_count": 17,
      "outputs": [
        {
          "output_type": "stream",
          "name": "stdout",
          "text": [
            "Fold 1 Accuracy: 0.9166666666666666\n",
            "Fold 2 Accuracy: 0.8055555555555556\n",
            "Fold 3 Accuracy: 0.8055555555555556\n",
            "Fold 4 Accuracy: 0.7428571428571429\n",
            "Fold 5 Accuracy: 0.9142857142857143\n",
            "Mean Accuracy: 0.836984126984127\n"
          ]
        }
      ]
    },
    {
      "cell_type": "code",
      "source": [
        "from sklearn.datasets import load_wine\n",
        "from sklearn.model_selection import cross_val_score\n",
        "from sklearn.tree import DecisionTreeClassifier\n",
        "\n",
        "# Load the Wine dataset\n",
        "data = load_wine()\n",
        "X = data.data\n",
        "y = data.target\n",
        "\n",
        "# Initialize a classification model (Decision Tree)\n",
        "model = DecisionTreeClassifier()\n",
        "\n",
        "# Perform cross-validation and calculate accuracy scores\n",
        "cv_scores = cross_val_score(model, X, y, cv=5, scoring='accuracy')\n",
        "\n",
        "# Print accuracy scores for each fold\n",
        "for fold, score in enumerate(cv_scores, start=1):\n",
        "    print(f\"Fold {fold} Accuracy:\", score)\n",
        "\n",
        "# Calculate and print the mean accuracy across all folds\n",
        "mean_accuracy = cv_scores.mean()\n",
        "print(\"Mean Accuracy:\", mean_accuracy)\n"
      ],
      "metadata": {
        "colab": {
          "base_uri": "https://localhost:8080/"
        },
        "id": "RtLrZgxwYCr9",
        "outputId": "e19ed294-3b57-462a-9f7b-982ff8ac7011"
      },
      "execution_count": 18,
      "outputs": [
        {
          "output_type": "stream",
          "name": "stdout",
          "text": [
            "Fold 1 Accuracy: 0.9166666666666666\n",
            "Fold 2 Accuracy: 0.8055555555555556\n",
            "Fold 3 Accuracy: 0.8888888888888888\n",
            "Fold 4 Accuracy: 0.9142857142857143\n",
            "Fold 5 Accuracy: 0.8571428571428571\n",
            "Mean Accuracy: 0.8765079365079365\n"
          ]
        }
      ]
    }
  ]
}