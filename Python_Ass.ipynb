{
  "nbformat": 4,
  "nbformat_minor": 0,
  "metadata": {
    "colab": {
      "provenance": [],
      "authorship_tag": "ABX9TyOqvLmkwBNt3XFR5LUIGZ9F",
      "include_colab_link": true
    },
    "kernelspec": {
      "name": "python3",
      "display_name": "Python 3"
    },
    "language_info": {
      "name": "python"
    }
  },
  "cells": [
    {
      "cell_type": "markdown",
      "metadata": {
        "id": "view-in-github",
        "colab_type": "text"
      },
      "source": [
        "<a href=\"https://colab.research.google.com/github/PasumurtySowmya/PythonAssignment/blob/main/Python_Ass.ipynb\" target=\"_parent\"><img src=\"https://colab.research.google.com/assets/colab-badge.svg\" alt=\"Open In Colab\"/></a>"
      ]
    },
    {
      "cell_type": "code",
      "execution_count": 4,
      "metadata": {
        "colab": {
          "base_uri": "https://localhost:8080/"
        },
        "id": "MV2Llu1pwa4K",
        "outputId": "4297b021-09b8-42c7-8ef9-1822463cebb9"
      },
      "outputs": [
        {
          "output_type": "stream",
          "name": "stdout",
          "text": [
            "     Name  Age  Gender\n",
            "0     Ali   24    Male\n",
            "1     Bob   34  Female\n",
            "2  Charan   23    Male\n",
            "3     Don   45  Female\n",
            "4     Eva   34    Male\n"
          ]
        }
      ],
      "source": [
        "#Creating a data frame Using Dictionary\n",
        "import pandas as pd\n",
        "data = {\n",
        "    'Name':['Ali','Bob','Charan','Don','Eva'],\n",
        "    'Age': [24,34,23,45,34],\n",
        "    'Gender': ['Male' ,'Female','Male' ,'Female','Male']\n",
        "}\n",
        "df = pd.DataFrame(data)\n",
        "print(df)"
      ]
    },
    {
      "cell_type": "code",
      "source": [
        "#Indexing ,SLicing\n",
        "import pandas as pd\n",
        "data = {\n",
        "    'Name':['Ali','Bob','Charan','Don','Eva'],\n",
        "    'Age': [24,34,23,45,34],\n",
        "    'Gender': ['Male' ,'Female','Male' ,'Female','Male']\n",
        "}\n",
        "df = pd.DataFrame(data)\n",
        "df1 = df.iloc[0:3]\n",
        "print(df1)\n",
        "\n"
      ],
      "metadata": {
        "colab": {
          "base_uri": "https://localhost:8080/"
        },
        "id": "OMP1uX720aSH",
        "outputId": "26286f2d-f266-4db5-d1bb-408efa7383bd"
      },
      "execution_count": 6,
      "outputs": [
        {
          "output_type": "stream",
          "name": "stdout",
          "text": [
            "     Name  Age  Gender\n",
            "0     Ali   24    Male\n",
            "1     Bob   34  Female\n",
            "2  Charan   23    Male\n"
          ]
        }
      ]
    }
  ]
}