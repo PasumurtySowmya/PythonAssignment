{
  "nbformat": 4,
  "nbformat_minor": 0,
  "metadata": {
    "colab": {
      "provenance": [],
      "authorship_tag": "ABX9TyMhPvGWayF/UiThrpJgxUDU",
      "include_colab_link": true
    },
    "kernelspec": {
      "name": "python3",
      "display_name": "Python 3"
    },
    "language_info": {
      "name": "python"
    }
  },
  "cells": [
    {
      "cell_type": "markdown",
      "metadata": {
        "id": "view-in-github",
        "colab_type": "text"
      },
      "source": [
        "<a href=\"https://colab.research.google.com/github/PasumurtySowmya/PythonAssignment/blob/main/Python_Ass.ipynb\" target=\"_parent\"><img src=\"https://colab.research.google.com/assets/colab-badge.svg\" alt=\"Open In Colab\"/></a>"
      ]
    },
    {
      "cell_type": "code",
      "execution_count": 4,
      "metadata": {
        "colab": {
          "base_uri": "https://localhost:8080/"
        },
        "id": "MV2Llu1pwa4K",
        "outputId": "4297b021-09b8-42c7-8ef9-1822463cebb9"
      },
      "outputs": [
        {
          "output_type": "stream",
          "name": "stdout",
          "text": [
            "     Name  Age  Gender\n",
            "0     Ali   24    Male\n",
            "1     Bob   34  Female\n",
            "2  Charan   23    Male\n",
            "3     Don   45  Female\n",
            "4     Eva   34    Male\n"
          ]
        }
      ],
      "source": [
        "#Creating a data frame Using Dictionary\n",
        "import pandas as pd\n",
        "data = {\n",
        "    'Name':['Ali','Bob','Charan','Don','Eva'],\n",
        "    'Age': [24,34,23,45,34],\n",
        "    'Gender': ['Male' ,'Female','Male' ,'Female','Male']\n",
        "}\n",
        "df = pd.DataFrame(data)\n",
        "print(df)"
      ]
    },
    {
      "cell_type": "code",
      "source": [
        "#Indexing ,SLicing\n",
        "import pandas as pd\n",
        "data = {\n",
        "    'Name':['Ali','Bob','Charan','Don','Eva'],\n",
        "    'Age': [24,34,23,45,34],\n",
        "    'Gender': ['Male' ,'Female','Male' ,'Female','Male']\n",
        "}\n",
        "df = pd.DataFrame(data)\n",
        "df1 = df.iloc[0:3] #For Slicing\n",
        "print(df1)\n",
        "row2 = df.iloc[3] #For Indexing\n",
        "print(row2)\n",
        "rslt_df = df[df['Age'] > 30] #For Filtering\n",
        "print(rslt_df)\n",
        "options = ['Female']\n",
        "# selecting rows based on condition\n",
        "rslt_df1 = df[df['Gender'].isin(options)] #For Filtering\n",
        "\n",
        "print('\\nResult dataframe :\\n',\n",
        "      rslt_df1)\n",
        "\n"
      ],
      "metadata": {
        "colab": {
          "base_uri": "https://localhost:8080/"
        },
        "id": "OMP1uX720aSH",
        "outputId": "50d7f691-1306-4c90-eed2-36020ef616fb"
      },
      "execution_count": 10,
      "outputs": [
        {
          "output_type": "stream",
          "name": "stdout",
          "text": [
            "     Name  Age  Gender\n",
            "0     Ali   24    Male\n",
            "1     Bob   34  Female\n",
            "2  Charan   23    Male\n",
            "Name         Don\n",
            "Age           45\n",
            "Gender    Female\n",
            "Name: 3, dtype: object\n",
            "  Name  Age  Gender\n",
            "1  Bob   34  Female\n",
            "3  Don   45  Female\n",
            "4  Eva   34    Male\n",
            "\n",
            "Result dataframe :\n",
            "   Name  Age  Gender\n",
            "1  Bob   34  Female\n",
            "3  Don   45  Female\n"
          ]
        }
      ]
    },
    {
      "cell_type": "code",
      "source": [
        "# Modifying data within series\n",
        "import pandas as pd\n",
        "srs : [1,2,3,4,5,6,7,8]\n",
        "srs1 =pd.Series(srs)\n",
        "print(srs1)\n",
        "Data =srs1.update(pd.Series([5000, 6000], index = [4, 6])) #Updating\n",
        "print(Data)"
      ],
      "metadata": {
        "colab": {
          "base_uri": "https://localhost:8080/"
        },
        "id": "4PrsGs0G6PN1",
        "outputId": "6472d599-430c-4c1b-9a5d-af6d5c2d758a"
      },
      "execution_count": 21,
      "outputs": [
        {
          "output_type": "stream",
          "name": "stdout",
          "text": [
            "0    1\n",
            "1    2\n",
            "2    3\n",
            "3    4\n",
            "4    5\n",
            "5    6\n",
            "6    7\n",
            "7    8\n",
            "dtype: int64\n",
            "None\n"
          ]
        }
      ]
    },
    {
      "cell_type": "code",
      "source": [
        "#Modifying data within DataFrame\n",
        "import pandas as pd\n",
        "data = {\n",
        "    'Name':['Ali','Bob','Charan','Don','Eva'],\n",
        "    'Age': [24,34,23,45,34],\n",
        "    'Gender': ['Male' ,'Female','Male' ,'Female','Male'],\n",
        "    'Name ID': [10 ,20,30,40,50]\n",
        "}\n",
        "df = pd.DataFrame(data)\n",
        "print(df)\n",
        "\n",
        "data2 ={\n",
        "    'Name ID': [10 ,20,30,40,50],\n",
        "    'Name' :['Cat','Dog','Lion','Tiger','Fish'],\n",
        "    'Age' :[34,16,44,54,22]\n",
        "}\n",
        "df1 = pd.DataFrame(data2)\n",
        "print(df1)\n",
        "frames = [df, df1]\n",
        "result = pd.concat(frames) #Concat\n",
        "print(result)\n",
        "print(df.merge(df1, on='Name ID')) #Merging\n"
      ],
      "metadata": {
        "colab": {
          "base_uri": "https://localhost:8080/"
        },
        "id": "ONZdR5rU976x",
        "outputId": "e2d1d9b2-f55e-4dd7-a530-fe5d648371f6"
      },
      "execution_count": 33,
      "outputs": [
        {
          "output_type": "stream",
          "name": "stdout",
          "text": [
            "     Name  Age  Gender  Name ID\n",
            "0     Ali   24    Male       10\n",
            "1     Bob   34  Female       20\n",
            "2  Charan   23    Male       30\n",
            "3     Don   45  Female       40\n",
            "4     Eva   34    Male       50\n",
            "   Name ID   Name  Age\n",
            "0       10    Cat   34\n",
            "1       20    Dog   16\n",
            "2       30   Lion   44\n",
            "3       40  Tiger   54\n",
            "4       50   Fish   22\n",
            "     Name  Age  Gender  Name ID\n",
            "0     Ali   24    Male       10\n",
            "1     Bob   34  Female       20\n",
            "2  Charan   23    Male       30\n",
            "3     Don   45  Female       40\n",
            "4     Eva   34    Male       50\n",
            "0     Cat   34     NaN       10\n",
            "1     Dog   16     NaN       20\n",
            "2    Lion   44     NaN       30\n",
            "3   Tiger   54     NaN       40\n",
            "4    Fish   22     NaN       50\n",
            "   Name_x  Age_x  Gender  Name ID Name_y  Age_y\n",
            "0     Ali     24    Male       10    Cat     34\n",
            "1     Bob     34  Female       20    Dog     16\n",
            "2  Charan     23    Male       30   Lion     44\n",
            "3     Don     45  Female       40  Tiger     54\n",
            "4     Eva     34    Male       50   Fish     22\n"
          ]
        }
      ]
    }
  ]
}